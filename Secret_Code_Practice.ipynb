{
 "cells": [
  {
   "cell_type": "code",
   "execution_count": 1,
   "metadata": {},
   "outputs": [
    {
     "name": "stdout",
     "output_type": "stream",
     "text": [
      "████████░     ████████░   ██████████░    ███████░     ██░     ██░     ███░    ███░ ██░     ██░\n",
      "██░     ██░ ███░     ███░ ██░          ███░    ██░   ████░   ████░      ██░  ██░   ██░     ██░\n",
      "██░     ██░ ██░       ██░ ██░         ███░           ██░██░ ██░██░       ██░██░    ██░     ██░\n",
      "████████░   ██░       ██░ ████████░   ██░           ███░ ██░██░ ██░       ███░     ██████████░\n",
      "██░     ██░ ██░       ██░ ██░         ███░          ██░  █████░ ███░     ██░██░    ██░     ██░\n",
      "██░     ██░ ███░     ███░ ██░          ███░    ██░ ███░   ███░   ██░    ██░  ██░   ██░     ██░\n",
      "████████░     ████████░   ██████████░    ███████░  ██░           ███░ ███░    ███░ ██░     ██░\n"
     ]
    }
   ],
   "source": [
    "from bs4 import BeautifulSoup as BSoup\n",
    "import requests as req\n",
    "\n",
    "def fetch_and_display_grid(url):\n",
    "    if not url:\n",
    "        url = input(\"Enter the URL: \")\n",
    "    \n",
    "    response = req.get(url)\n",
    "    if response.status_code == 200:\n",
    "        soup = BSoup(response.text, 'html.parser')\n",
    "        text_content = soup.get_text(separator='\\n').strip()\n",
    "        response.close()  \n",
    "    \n",
    "        start_collecting = False\n",
    "        relevant_text = \"\"\n",
    "        \n",
    "\n",
    "        for line in text_content.splitlines():\n",
    "            if start_collecting:\n",
    "                relevant_text += line + \"\\n\"\n",
    "            if line.strip() == \"y-coordinate\":\n",
    "                start_collecting = True\n",
    "\n",
    "        lines = relevant_text.split(\"\\n\")\n",
    "        parsed_data = []\n",
    "\n",
    "        \n",
    "        for i in range(0, len(lines), 3):\n",
    "            parsed_data.append(lines[i:i+3])\n",
    "\n",
    "        max_x = max_y = 0\n",
    "        for data in parsed_data:\n",
    "            if len(data) != 3:\n",
    "                continue\n",
    "            x_coord = int(data[0])\n",
    "            y_coord = int(data[2])\n",
    "            if x_coord > max_x:\n",
    "                max_x = x_coord\n",
    "            if y_coord > max_y:\n",
    "                max_y = y_coord\n",
    "        \n",
    "        grid_width = max_x + 1\n",
    "        grid_height = max_y + 1\n",
    "        grid = [[\" \" for _ in range(grid_width)] for _ in range(grid_height)]\n",
    "\n",
    "        \n",
    "        for data in parsed_data:\n",
    "            if len(data) != 3:\n",
    "                continue\n",
    "            x_coord = int(data[0])\n",
    "            char = data[1]\n",
    "            y_coord = int(data[2])\n",
    "            grid[y_coord][x_coord] = char\n",
    "\n",
    "        for row in grid:\n",
    "            print(\"\".join(row))\n",
    "\n",
    "url = 'https://docs.google.com/document/d/e/2PACX-1vQGUck9HIFCyezsrBSnmENk5ieJuYwpt7YHYEzeNJkIb9OSDdx-ov2nRNReKQyey-cwJOoEKUhLmN9z/pub'\n",
    "fetch_and_display_grid(url)\n"
   ]
  },
  {
   "cell_type": "code",
   "execution_count": null,
   "metadata": {},
   "outputs": [],
   "source": []
  }
 ],
 "metadata": {
  "kernelspec": {
   "display_name": "Python 3",
   "language": "python",
   "name": "python3"
  },
  "language_info": {
   "codemirror_mode": {
    "name": "ipython",
    "version": 3
   },
   "file_extension": ".py",
   "mimetype": "text/x-python",
   "name": "python",
   "nbconvert_exporter": "python",
   "pygments_lexer": "ipython3",
   "version": "3.10.0"
  }
 },
 "nbformat": 4,
 "nbformat_minor": 2
}
