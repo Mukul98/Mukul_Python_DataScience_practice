{
 "cells": [
  {
   "cell_type": "markdown",
   "metadata": {},
   "source": [
    "### Operator Overloading\n",
    "\n",
    "Operator overloading allows you to define the behaviour of operators(+,-,*,etc.) for custom objects. You achieve this by overriding specific magic methods in your class."
   ]
  },
  {
   "cell_type": "code",
   "execution_count": 1,
   "metadata": {},
   "outputs": [
    {
     "data": {
      "text/plain": [
       "'\\n__add__(self,other): Adds two objects using the + operator.\\n__sub__(self,other): Subtracts two objects using the - operator.\\n__mul__(self,other): Multiplies two objects using the * operator.\\n__truediv__(self,other): Divides two objects using the / operator.\\n__eq__(self,other): checks if two objects are equal using the == operator.\\n__lt__(self,other): checks if one object is less than the other using the < operator.\\n'"
      ]
     },
     "execution_count": 1,
     "metadata": {},
     "output_type": "execute_result"
    }
   ],
   "source": [
    "#### Common Operator Overloading Magic Methods\n",
    "\n",
    "'''\n",
    "__add__(self,other): Adds two objects using the + operator.\n",
    "__sub__(self,other): Subtracts two objects using the - operator.\n",
    "__mul__(self,other): Multiplies two objects using the * operator.\n",
    "__truediv__(self,other): Divides two objects using the / operator.\n",
    "__eq__(self,other): checks if two objects are equal using the == operator.\n",
    "__lt__(self,other): checks if one object is less than the other using the < operator.\n",
    "'''"
   ]
  },
  {
   "cell_type": "code",
   "execution_count": 12,
   "metadata": {},
   "outputs": [
    {
     "name": "stdout",
     "output_type": "stream",
     "text": [
      "Vector(2,3)\n"
     ]
    }
   ],
   "source": [
    "class Vector:\n",
    "    def __init__(self,x,y):\n",
    "        self.x=x\n",
    "        self.y=y\n",
    "    \n",
    "    def __add__(self,other):\n",
    "        return Vector(self.x+other.x,self.y+other.y)\n",
    "    \n",
    "    def __sub__(self,other):\n",
    "        return Vector(self.x - other.x, self.y- other.y)\n",
    "    \n",
    "    def __mul__(self,other):\n",
    "        return Vector(self.x*other, self.y*other)\n",
    "    \n",
    "    def __eq__(self,other):\n",
    "        return self.x==other.x and self.y==other.y\n",
    "\n",
    "    def __repr__(self):\n",
    "        return f\"Vector({self.x},{self.y})\"\n",
    "    \n",
    "## create objects of the Vector class\n",
    "v1 = Vector(2,3)\n",
    "v2 = Vector(2,3)\n",
    "\n",
    "print(v1*1)"
   ]
  },
  {
   "cell_type": "code",
   "execution_count": null,
   "metadata": {},
   "outputs": [],
   "source": []
  }
 ],
 "metadata": {
  "kernelspec": {
   "display_name": "Python 3",
   "language": "python",
   "name": "python3"
  },
  "language_info": {
   "codemirror_mode": {
    "name": "ipython",
    "version": 3
   },
   "file_extension": ".py",
   "mimetype": "text/x-python",
   "name": "python",
   "nbconvert_exporter": "python",
   "pygments_lexer": "ipython3",
   "version": "3.10.0"
  }
 },
 "nbformat": 4,
 "nbformat_minor": 2
}
